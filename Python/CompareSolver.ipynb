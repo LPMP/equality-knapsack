{
 "cells": [
  {
   "cell_type": "markdown",
   "metadata": {},
   "source": [
    "# Init Data"
   ]
  },
  {
   "cell_type": "code",
   "execution_count": 56,
   "metadata": {
    "ExecuteTime": {
     "end_time": "2018-05-29T00:36:58.458813Z",
     "start_time": "2018-05-29T00:36:58.438257Z"
    }
   },
   "outputs": [
    {
     "name": "stdout",
     "output_type": "stream",
     "text": [
      "Populating the interactive namespace from numpy and matplotlib\n"
     ]
    }
   ],
   "source": [
    "%pylab --no-import-all inline\n",
    "\n",
    "import gurobipy as grb\n",
    "import EKPSolvers as ekp"
   ]
  },
  {
   "cell_type": "code",
   "execution_count": 84,
   "metadata": {
    "ExecuteTime": {
     "end_time": "2018-05-29T00:38:36.906553Z",
     "start_time": "2018-05-29T00:38:36.897117Z"
    }
   },
   "outputs": [],
   "source": [
    "n = 1000\n",
    "# np.random.seed(20)"
   ]
  },
  {
   "cell_type": "markdown",
   "metadata": {},
   "source": [
    "## Create Data"
   ]
  },
  {
   "cell_type": "code",
   "execution_count": 85,
   "metadata": {
    "ExecuteTime": {
     "end_time": "2018-05-29T00:38:38.395159Z",
     "start_time": "2018-05-29T00:38:38.343770Z"
    }
   },
   "outputs": [],
   "source": [
    "def sort_kp(c,w):\n",
    "    t = [ (c[i],w[i],c[i]/w[i]) for i in range(len(c)) ]\n",
    "    t.sort(key=lambda x : x[2])\n",
    "    c = [p[0] for p in t]\n",
    "    w = [p[1] for p in t]\n",
    "    return (c,w)\n",
    "\n",
    "c = 1 + 0.3*np.random.randn(n)\n",
    "w = np.random.randint(5,12,size=n)+1\n",
    "x = np.random.randint(2,size=n)\n",
    "rhs = sum(w*x)\n",
    "\n",
    "#c,w = sort_kp(c,w)\n",
    "#c = np.array(c)\n",
    "#w = np.array(w)\n",
    "\n",
    "#print(c.tolist(),w.tolist(),x.tolist(),rhs,sep='\\n')"
   ]
  },
  {
   "cell_type": "markdown",
   "metadata": {},
   "source": [
    "# EKP Solver"
   ]
  },
  {
   "cell_type": "code",
   "execution_count": 90,
   "metadata": {
    "ExecuteTime": {
     "end_time": "2018-05-29T00:38:48.331313Z",
     "start_time": "2018-05-29T00:38:48.186947Z"
    }
   },
   "outputs": [],
   "source": [
    "sol = ekp.SolveEKP_bb(c.tolist(),w.tolist(),rhs)"
   ]
  },
  {
   "cell_type": "code",
   "execution_count": 60,
   "metadata": {
    "ExecuteTime": {
     "end_time": "2018-05-29T00:36:58.519191Z",
     "start_time": "2018-05-29T00:36:58.515935Z"
    }
   },
   "outputs": [],
   "source": [
    "x_bb = np.array(sol[2])"
   ]
  },
  {
   "cell_type": "markdown",
   "metadata": {
    "heading_collapsed": true
   },
   "source": [
    "# Gurobi"
   ]
  },
  {
   "cell_type": "code",
   "execution_count": 61,
   "metadata": {
    "ExecuteTime": {
     "end_time": "2018-05-29T00:36:58.526851Z",
     "start_time": "2018-05-29T00:36:58.522193Z"
    },
    "hidden": true
   },
   "outputs": [],
   "source": [
    "c_dict = { i : c[i] for i in range(0,len(c)) }\n",
    "w_dict = { i : w[i] for i in range(0,len(w)) }"
   ]
  },
  {
   "cell_type": "code",
   "execution_count": 62,
   "metadata": {
    "ExecuteTime": {
     "end_time": "2018-05-29T00:36:58.540181Z",
     "start_time": "2018-05-29T00:36:58.529715Z"
    },
    "hidden": true
   },
   "outputs": [],
   "source": [
    "model = grb.Model(\"knapsack\")\n",
    "vtype = grb.GRB.BINARY\n",
    "vars = model.addVars(range(0,len(c_dict)),lb=0.0,ub=1.0, \\\n",
    "                     obj=c_dict,vtype=vtype)\n",
    "model.addConstr(vars.prod(w_dict),grb.GRB.EQUAL,rhs)\n",
    "model.update()"
   ]
  },
  {
   "cell_type": "code",
   "execution_count": 63,
   "metadata": {
    "ExecuteTime": {
     "end_time": "2018-05-29T00:36:58.583084Z",
     "start_time": "2018-05-29T00:36:58.543130Z"
    },
    "hidden": true
   },
   "outputs": [
    {
     "name": "stdout",
     "output_type": "stream",
     "text": [
      "Optimize a model with 1 rows, 20 columns and 20 nonzeros\n",
      "Variable types: 0 continuous, 20 integer (20 binary)\n",
      "Coefficient statistics:\n",
      "  Matrix range     [6e+00, 1e+01]\n",
      "  Objective range  [6e-01, 1e+00]\n",
      "  Bounds range     [1e+00, 1e+00]\n",
      "  RHS range        [7e+01, 7e+01]\n",
      "Presolve time: 0.00s\n",
      "Presolved: 1 rows, 20 columns, 20 nonzeros\n",
      "Variable types: 0 continuous, 20 integer (20 binary)\n",
      "Found heuristic solution: objective 7.1682017\n",
      "\n",
      "Root relaxation: objective 5.312561e+00, 1 iterations, 0.00 seconds\n",
      "\n",
      "    Nodes    |    Current Node    |     Objective Bounds      |     Work\n",
      " Expl Unexpl |  Obj  Depth IntInf | Incumbent    BestBd   Gap | It/Node Time\n",
      "\n",
      "     0     0    5.31256    0    1    7.16820    5.31256  25.9%     -    0s\n",
      "H    0     0                       5.5557666    5.31256  4.38%     -    0s\n",
      "     0     0    5.43292    0    2    5.55577    5.43292  2.21%     -    0s\n",
      "H    0     0                       5.5043761    5.43292  1.30%     -    0s\n",
      "     0     0    5.47884    0    4    5.50438    5.47884  0.46%     -    0s\n",
      "\n",
      "Cutting planes:\n",
      "  Cover: 3\n",
      "\n",
      "Explored 1 nodes (8 simplex iterations) in 0.03 seconds\n",
      "Thread count was 4 (of 4 available processors)\n",
      "\n",
      "Solution count 3: 5.50438 5.55577 7.1682 \n",
      "\n",
      "Optimal solution found (tolerance 1.00e-04)\n",
      "Best objective 5.504376068978e+00, best bound 5.504376068978e+00, gap 0.0000%\n"
     ]
    }
   ],
   "source": [
    "model.optimize()"
   ]
  },
  {
   "cell_type": "code",
   "execution_count": 64,
   "metadata": {
    "ExecuteTime": {
     "end_time": "2018-05-29T00:36:58.589984Z",
     "start_time": "2018-05-29T00:36:58.585480Z"
    },
    "hidden": true
   },
   "outputs": [],
   "source": [
    "x_gurobi = np.array([v.X for v in vars.values()])"
   ]
  },
  {
   "cell_type": "markdown",
   "metadata": {},
   "source": [
    "# Enumeration Solver"
   ]
  },
  {
   "cell_type": "code",
   "execution_count": null,
   "metadata": {
    "ExecuteTime": {
     "start_time": "2018-05-29T00:38:53.131Z"
    }
   },
   "outputs": [],
   "source": [
    "x_enum = np.array(ekp.SolveEKP_enum(c,w,rhs))"
   ]
  },
  {
   "cell_type": "markdown",
   "metadata": {},
   "source": [
    "# Compare Results"
   ]
  },
  {
   "cell_type": "code",
   "execution_count": 66,
   "metadata": {
    "ExecuteTime": {
     "end_time": "2018-05-29T00:36:58.633496Z",
     "start_time": "2018-05-29T00:36:58.603061Z"
    }
   },
   "outputs": [
    {
     "name": "stdout",
     "output_type": "stream",
     "text": [
      "5.5046109768906515   <=   5.504376068977589\n",
      "----\n",
      "0.00000e+00  0.00000e+00  0.00000e+00\n",
      "0.00000e+00  0.00000e+00  0.00000e+00\n",
      "g: 5.50438\n",
      "b: 5.50438\n",
      "e: 5.50438\n",
      "---\n"
     ]
    }
   ],
   "source": [
    "print(sol[0],'  <=  ',sol[1])\n",
    "print('----')\n",
    "\n",
    "print('{:.5e}  {:.5e}  {:.5e}'.format(np.linalg.norm(x_gurobi - np.round(x_gurobi),ord=1),\n",
    "                                      np.linalg.norm(x_bb - np.round(x_bb)),\n",
    "      np.linalg.norm(x_enum - np.round(x_enum))))\n",
    "print('{:.5e}  {:.5e}  {:.5e}'.format(abs(sum(x_gurobi*w)-rhs),abs(sum(x_bb*w)-rhs),abs(sum(x_enum*w)-rhs)))\n",
    "print('g: {:.5f}\\nb: {:.5f}\\ne: {:.5f}'.format(sum(x_gurobi*c),sum(x_bb*c),sum(x_enum*c)))\n",
    "\n",
    "print('---')\n",
    "#print(x_bb.astype(int))\n",
    "#print(x_gurobi.astype(int))\n",
    "#print(x_enum)"
   ]
  }
 ],
 "metadata": {
  "kernelspec": {
   "display_name": "Python 3",
   "language": "python",
   "name": "python3"
  },
  "language_info": {
   "codemirror_mode": {
    "name": "ipython",
    "version": 3
   },
   "file_extension": ".py",
   "mimetype": "text/x-python",
   "name": "python",
   "nbconvert_exporter": "python",
   "pygments_lexer": "ipython3",
   "version": "3.6.4"
  }
 },
 "nbformat": 4,
 "nbformat_minor": 2
}
