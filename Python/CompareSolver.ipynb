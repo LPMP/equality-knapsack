{
 "cells": [
  {
   "cell_type": "markdown",
   "metadata": {},
   "source": [
    "# Init Data"
   ]
  },
  {
   "cell_type": "code",
<<<<<<< HEAD
   "execution_count": 56,
   "metadata": {
    "ExecuteTime": {
     "end_time": "2018-05-29T00:36:58.458813Z",
     "start_time": "2018-05-29T00:36:58.438257Z"
=======
   "execution_count": 1,
   "metadata": {
    "ExecuteTime": {
     "end_time": "2018-06-18T08:23:26.447230Z",
     "start_time": "2018-06-18T08:23:26.251230Z"
>>>>>>> jan_dev
    }
   },
   "outputs": [
    {
     "name": "stdout",
     "output_type": "stream",
     "text": [
      "Populating the interactive namespace from numpy and matplotlib\n"
     ]
    }
   ],
   "source": [
    "%pylab --no-import-all inline\n",
    "\n",
    "import gurobipy as grb\n",
    "import EKPSolvers as ekp"
   ]
  },
  {
   "cell_type": "code",
<<<<<<< HEAD
   "execution_count": 84,
   "metadata": {
    "ExecuteTime": {
     "end_time": "2018-05-29T00:38:36.906553Z",
     "start_time": "2018-05-29T00:38:36.897117Z"
=======
   "execution_count": 2,
   "metadata": {
    "ExecuteTime": {
     "end_time": "2018-06-18T08:23:26.450723Z",
     "start_time": "2018-06-18T08:23:26.448603Z"
>>>>>>> jan_dev
    }
   },
   "outputs": [],
   "source": [
<<<<<<< HEAD
    "n = 1000\n",
    "# np.random.seed(20)"
=======
    "n = 20\n",
    "np.random.seed(20)"
>>>>>>> jan_dev
   ]
  },
  {
   "cell_type": "markdown",
   "metadata": {},
   "source": [
    "## Create Data"
   ]
  },
  {
   "cell_type": "code",
<<<<<<< HEAD
   "execution_count": 85,
   "metadata": {
    "ExecuteTime": {
     "end_time": "2018-05-29T00:38:38.395159Z",
     "start_time": "2018-05-29T00:38:38.343770Z"
    }
   },
   "outputs": [],
=======
   "execution_count": 3,
   "metadata": {
    "ExecuteTime": {
     "end_time": "2018-06-18T08:23:26.544207Z",
     "start_time": "2018-06-18T08:23:26.451917Z"
    }
   },
   "outputs": [
    {
     "name": "stdout",
     "output_type": "stream",
     "text": [
      "[0.29702142830793665, 0.7623949627668456, 0.8519767354273359, 0.6161492014988188, 0.7064556873643915, 0.6745502238048002, 1.1219105276895143, 1.1509290520327573, 1.0737145508533699, 1.097038302974693, 1.1219243406684403, 1.4702897658670926, 1.107260954765586, 0.7472896197584549, 0.9867415597949147, 1.2818408049568233, 1.1679088868211753, 1.315332603883953, 1.0587595066112934, 1.2651679337852038]\n",
      "[6, 12, 12, 8, 9, 8, 12, 12, 11, 11, 11, 12, 9, 6, 7, 9, 8, 8, 6, 7]\n",
      "[1, 0, 0, 1, 0, 0, 0, 0, 1, 1, 0, 0, 0, 1, 0, 0, 1, 0, 0, 1]\n",
      "61\n"
     ]
    }
   ],
>>>>>>> jan_dev
   "source": [
    "def sort_kp(c,w):\n",
    "    t = [ (c[i],w[i],c[i]/w[i]) for i in range(len(c)) ]\n",
    "    t.sort(key=lambda x : x[2])\n",
    "    c = [p[0] for p in t]\n",
    "    w = [p[1] for p in t]\n",
    "    return (c,w)\n",
    "\n",
    "c = 1 + 0.3*np.random.randn(n)\n",
    "w = np.random.randint(5,12,size=n)+1\n",
    "x = np.random.randint(2,size=n)\n",
    "rhs = sum(w*x)\n",
    "\n",
<<<<<<< HEAD
    "#c,w = sort_kp(c,w)\n",
    "#c = np.array(c)\n",
    "#w = np.array(w)\n",
    "\n",
    "#print(c.tolist(),w.tolist(),x.tolist(),rhs,sep='\\n')"
=======
    "c,w = sort_kp(c,w)\n",
    "c = np.array(c)\n",
    "w = np.array(w)\n",
    "\n",
    "print(c.tolist(),w.tolist(),x.tolist(),rhs,sep='\\n')"
>>>>>>> jan_dev
   ]
  },
  {
   "cell_type": "markdown",
   "metadata": {},
   "source": [
    "# EKP Solver"
   ]
  },
  {
   "cell_type": "code",
<<<<<<< HEAD
   "execution_count": 90,
   "metadata": {
    "ExecuteTime": {
     "end_time": "2018-05-29T00:38:48.331313Z",
     "start_time": "2018-05-29T00:38:48.186947Z"
=======
   "execution_count": 4,
   "metadata": {
    "ExecuteTime": {
     "end_time": "2018-06-18T08:23:26.635581Z",
     "start_time": "2018-06-18T08:23:26.545331Z"
>>>>>>> jan_dev
    }
   },
   "outputs": [],
   "source": [
    "sol = ekp.SolveEKP_bb(c.tolist(),w.tolist(),rhs)"
   ]
  },
  {
   "cell_type": "code",
<<<<<<< HEAD
   "execution_count": 60,
   "metadata": {
    "ExecuteTime": {
     "end_time": "2018-05-29T00:36:58.519191Z",
     "start_time": "2018-05-29T00:36:58.515935Z"
=======
   "execution_count": 5,
   "metadata": {
    "ExecuteTime": {
     "end_time": "2018-06-18T08:23:26.743410Z",
     "start_time": "2018-06-18T08:23:26.636962Z"
>>>>>>> jan_dev
    }
   },
   "outputs": [],
   "source": [
    "x_bb = np.array(sol[2])"
   ]
  },
  {
   "cell_type": "markdown",
   "metadata": {
    "heading_collapsed": true
   },
   "source": [
    "# Gurobi"
   ]
  },
  {
   "cell_type": "code",
<<<<<<< HEAD
   "execution_count": 61,
   "metadata": {
    "ExecuteTime": {
     "end_time": "2018-05-29T00:36:58.526851Z",
     "start_time": "2018-05-29T00:36:58.522193Z"
=======
   "execution_count": 6,
   "metadata": {
    "ExecuteTime": {
     "end_time": "2018-06-18T08:23:26.851631Z",
     "start_time": "2018-06-18T08:23:26.744778Z"
>>>>>>> jan_dev
    },
    "hidden": true
   },
   "outputs": [],
   "source": [
    "c_dict = { i : c[i] for i in range(0,len(c)) }\n",
    "w_dict = { i : w[i] for i in range(0,len(w)) }"
   ]
  },
  {
   "cell_type": "code",
<<<<<<< HEAD
   "execution_count": 62,
   "metadata": {
    "ExecuteTime": {
     "end_time": "2018-05-29T00:36:58.540181Z",
     "start_time": "2018-05-29T00:36:58.529715Z"
=======
   "execution_count": 7,
   "metadata": {
    "ExecuteTime": {
     "end_time": "2018-06-18T08:23:26.980824Z",
     "start_time": "2018-06-18T08:23:26.852887Z"
>>>>>>> jan_dev
    },
    "hidden": true
   },
   "outputs": [],
   "source": [
    "model = grb.Model(\"knapsack\")\n",
    "vtype = grb.GRB.BINARY\n",
    "vars = model.addVars(range(0,len(c_dict)),lb=0.0,ub=1.0, \\\n",
    "                     obj=c_dict,vtype=vtype)\n",
    "model.addConstr(vars.prod(w_dict),grb.GRB.EQUAL,rhs)\n",
    "model.update()"
   ]
  },
  {
   "cell_type": "code",
<<<<<<< HEAD
   "execution_count": 63,
   "metadata": {
    "ExecuteTime": {
     "end_time": "2018-05-29T00:36:58.583084Z",
     "start_time": "2018-05-29T00:36:58.543130Z"
=======
   "execution_count": 8,
   "metadata": {
    "ExecuteTime": {
     "end_time": "2018-06-18T08:23:27.099749Z",
     "start_time": "2018-06-18T08:23:26.981973Z"
>>>>>>> jan_dev
    },
    "hidden": true
   },
   "outputs": [
    {
     "name": "stdout",
     "output_type": "stream",
     "text": [
      "Optimize a model with 1 rows, 20 columns and 20 nonzeros\n",
      "Variable types: 0 continuous, 20 integer (20 binary)\n",
      "Coefficient statistics:\n",
      "  Matrix range     [6e+00, 1e+01]\n",
<<<<<<< HEAD
      "  Objective range  [6e-01, 1e+00]\n",
      "  Bounds range     [1e+00, 1e+00]\n",
      "  RHS range        [7e+01, 7e+01]\n",
      "Presolve time: 0.00s\n",
      "Presolved: 1 rows, 20 columns, 20 nonzeros\n",
      "Variable types: 0 continuous, 20 integer (20 binary)\n",
      "Found heuristic solution: objective 7.1682017\n",
      "\n",
      "Root relaxation: objective 5.312561e+00, 1 iterations, 0.00 seconds\n",
=======
      "  Objective range  [3e-01, 1e+00]\n",
      "  Bounds range     [1e+00, 1e+00]\n",
      "  RHS range        [6e+01, 6e+01]\n",
      "Found heuristic solution: objective 4.6558379\n",
      "Presolve time: 0.00s\n",
      "Presolved: 1 rows, 20 columns, 20 nonzeros\n",
      "Variable types: 0 continuous, 20 integer (20 binary)\n",
      "\n",
      "Root relaxation: objective 4.469504e+00, 1 iterations, 0.00 seconds\n",
>>>>>>> jan_dev
      "\n",
      "    Nodes    |    Current Node    |     Objective Bounds      |     Work\n",
      " Expl Unexpl |  Obj  Depth IntInf | Incumbent    BestBd   Gap | It/Node Time\n",
      "\n",
<<<<<<< HEAD
      "     0     0    5.31256    0    1    7.16820    5.31256  25.9%     -    0s\n",
      "H    0     0                       5.5557666    5.31256  4.38%     -    0s\n",
      "     0     0    5.43292    0    2    5.55577    5.43292  2.21%     -    0s\n",
      "H    0     0                       5.5043761    5.43292  1.30%     -    0s\n",
      "     0     0    5.47884    0    4    5.50438    5.47884  0.46%     -    0s\n",
      "\n",
      "Cutting planes:\n",
      "  Cover: 3\n",
      "\n",
      "Explored 1 nodes (8 simplex iterations) in 0.03 seconds\n",
      "Thread count was 4 (of 4 available processors)\n",
      "\n",
      "Solution count 3: 5.50438 5.55577 7.1682 \n",
      "\n",
      "Optimal solution found (tolerance 1.00e-04)\n",
      "Best objective 5.504376068978e+00, best bound 5.504376068978e+00, gap 0.0000%\n"
=======
      "     0     0    4.46950    0    1    4.65584    4.46950  4.00%     -    0s\n",
      "     0     0 infeasible    0         4.65584    4.65584  0.00%     -    0s\n",
      "\n",
      "Cutting planes:\n",
      "  Cover: 2\n",
      "\n",
      "Explored 1 nodes (4 simplex iterations) in 0.01 seconds\n",
      "Thread count was 8 (of 8 available processors)\n",
      "\n",
      "Solution count 1: 4.65584 \n",
      "\n",
      "Optimal solution found (tolerance 1.00e-04)\n",
      "Best objective 4.655837858929e+00, best bound 4.655837858929e+00, gap 0.0000%\n"
>>>>>>> jan_dev
     ]
    }
   ],
   "source": [
    "model.optimize()"
   ]
  },
  {
   "cell_type": "code",
<<<<<<< HEAD
   "execution_count": 64,
   "metadata": {
    "ExecuteTime": {
     "end_time": "2018-05-29T00:36:58.589984Z",
     "start_time": "2018-05-29T00:36:58.585480Z"
=======
   "execution_count": 9,
   "metadata": {
    "ExecuteTime": {
     "end_time": "2018-06-18T08:23:27.201907Z",
     "start_time": "2018-06-18T08:23:27.101224Z"
>>>>>>> jan_dev
    },
    "hidden": true
   },
   "outputs": [],
   "source": [
    "x_gurobi = np.array([v.X for v in vars.values()])"
   ]
  },
  {
   "cell_type": "markdown",
   "metadata": {},
   "source": [
    "# Enumeration Solver"
   ]
  },
  {
   "cell_type": "code",
<<<<<<< HEAD
   "execution_count": null,
   "metadata": {
    "ExecuteTime": {
     "start_time": "2018-05-29T00:38:53.131Z"
=======
   "execution_count": 10,
   "metadata": {
    "ExecuteTime": {
     "end_time": "2018-06-18T08:23:27.311626Z",
     "start_time": "2018-06-18T08:23:27.203259Z"
>>>>>>> jan_dev
    }
   },
   "outputs": [],
   "source": [
<<<<<<< HEAD
    "x_enum = np.array(ekp.SolveEKP_enum(c,w,rhs))"
=======
    "#x_enum = np.array(ekp.SolveEKP_enum(c,w,rhs))\n",
    "x_enum = x_bb"
>>>>>>> jan_dev
   ]
  },
  {
   "cell_type": "markdown",
   "metadata": {},
   "source": [
    "# Compare Results"
   ]
  },
  {
   "cell_type": "code",
<<<<<<< HEAD
   "execution_count": 66,
   "metadata": {
    "ExecuteTime": {
     "end_time": "2018-05-29T00:36:58.633496Z",
     "start_time": "2018-05-29T00:36:58.603061Z"
=======
   "execution_count": 11,
   "metadata": {
    "ExecuteTime": {
     "end_time": "2018-06-18T08:23:27.434566Z",
     "start_time": "2018-06-18T08:23:27.316532Z"
>>>>>>> jan_dev
    }
   },
   "outputs": [
    {
     "name": "stdout",
     "output_type": "stream",
     "text": [
<<<<<<< HEAD
      "5.5046109768906515   <=   5.504376068977589\n",
      "----\n",
      "0.00000e+00  0.00000e+00  0.00000e+00\n",
      "0.00000e+00  0.00000e+00  0.00000e+00\n",
      "g: 5.50438\n",
      "b: 5.50438\n",
      "e: 5.50438\n",
=======
      "4.665305852972324   <=   4.655837858928583\n",
      "----\n",
      "0.00000e+00  0.00000e+00  0.00000e+00\n",
      "0.00000e+00  0.00000e+00  0.00000e+00\n",
      "g: 4.65584\n",
      "b: 4.65584\n",
      "e: 4.65584\n",
>>>>>>> jan_dev
      "---\n"
     ]
    }
   ],
   "source": [
    "print(sol[0],'  <=  ',sol[1])\n",
    "print('----')\n",
    "\n",
    "print('{:.5e}  {:.5e}  {:.5e}'.format(np.linalg.norm(x_gurobi - np.round(x_gurobi),ord=1),\n",
    "                                      np.linalg.norm(x_bb - np.round(x_bb)),\n",
<<<<<<< HEAD
    "      np.linalg.norm(x_enum - np.round(x_enum))))\n",
=======
    "                                      np.linalg.norm(x_enum - np.round(x_enum))))\n",
    "\n",
>>>>>>> jan_dev
    "print('{:.5e}  {:.5e}  {:.5e}'.format(abs(sum(x_gurobi*w)-rhs),abs(sum(x_bb*w)-rhs),abs(sum(x_enum*w)-rhs)))\n",
    "print('g: {:.5f}\\nb: {:.5f}\\ne: {:.5f}'.format(sum(x_gurobi*c),sum(x_bb*c),sum(x_enum*c)))\n",
    "\n",
    "print('---')\n",
    "#print(x_bb.astype(int))\n",
    "#print(x_gurobi.astype(int))\n",
    "#print(x_enum)"
   ]
  }
 ],
 "metadata": {
  "kernelspec": {
   "display_name": "Python 3",
   "language": "python",
   "name": "python3"
  },
  "language_info": {
   "codemirror_mode": {
    "name": "ipython",
    "version": 3
   },
   "file_extension": ".py",
   "mimetype": "text/x-python",
   "name": "python",
   "nbconvert_exporter": "python",
   "pygments_lexer": "ipython3",
   "version": "3.6.4"
  }
 },
 "nbformat": 4,
 "nbformat_minor": 2
}
