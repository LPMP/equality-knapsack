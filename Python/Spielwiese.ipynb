{
 "cells": [
  {
   "cell_type": "markdown",
   "metadata": {
    "heading_collapsed": true
   },
   "source": [
    "# Modules"
   ]
  },
  {
   "cell_type": "code",
   "execution_count": 198,
   "metadata": {
    "ExecuteTime": {
     "end_time": "2018-05-25T16:04:30.558003Z",
     "start_time": "2018-05-25T16:04:30.547534Z"
    },
    "hidden": true
   },
   "outputs": [
    {
     "name": "stdout",
     "output_type": "stream",
     "text": [
      "Populating the interactive namespace from numpy and matplotlib\n"
     ]
    }
   ],
   "source": [
    "%pylab --no-import-all inline\n",
    "#import EKPSolvers\n",
    "import gurobipy as grb"
   ]
  },
  {
   "cell_type": "markdown",
   "metadata": {},
   "source": [
    "# Initialization"
   ]
  },
  {
   "cell_type": "code",
   "execution_count": 199,
   "metadata": {
    "ExecuteTime": {
     "end_time": "2018-05-25T16:04:30.637244Z",
     "start_time": "2018-05-25T16:04:30.560463Z"
    },
    "code_folding": []
   },
   "outputs": [],
   "source": [
    "def sort_kp(c,w):\n",
    "    t = [ (c[i],w[i],c[i]/w[i]) for i in range(len(c)) ]\n",
    "    t.sort(key=lambda x : x[2])\n",
    "    c = [p[0] for p in t]\n",
    "    w = [p[1] for p in t]\n",
    "    return (c,w)\n",
    "    \n",
    "cw = sort_kp([0.1,0.1,0.3,0.5],[2,1,3,2])\n",
    "\n",
    "c = np.array(cw[0])\n",
    "w = np.array(cw[1])\n",
    "rhs = 4\n",
    "\n",
    "c_dict = { i : c[i] for i in range(0,len(c)) }\n",
    "w_dict = { i : w[i] for i in range(0,len(w)) }\n",
    "\n",
    "vtype = grb.GRB.BINARY"
   ]
  },
  {
   "cell_type": "markdown",
   "metadata": {
    "heading_collapsed": true
   },
   "source": [
    "# Optimization"
   ]
  },
  {
   "cell_type": "code",
   "execution_count": 200,
   "metadata": {
    "ExecuteTime": {
     "end_time": "2018-05-25T16:04:30.701964Z",
     "start_time": "2018-05-25T16:04:30.640262Z"
    },
    "code_folding": [],
    "hidden": true
   },
   "outputs": [
    {
     "name": "stdout",
     "output_type": "stream",
     "text": [
      "\\ Model knapsack\n",
      "\\ LP format - for model browsing. Use MPS format to capture full model detail.\n",
      "Minimize\n",
      "  0.1 C0 + 0.3 C1 + 0.1 C2 + 0.5 C3\n",
      "Subject To\n",
      " R0: 2 C0 + 3 C1 + C2 + 2 C3 = 4\n",
      "Bounds\n",
      "Binaries\n",
      " C0 C1 C2 C3\n",
      "End\n",
      "\n"
     ]
    }
   ],
   "source": [
    "model = grb.Model(\"knapsack\")\n",
    "vars = model.addVars(range(0,len(c_dict)),lb=0.0,ub=1.0, \\\n",
    "                     obj=c_dict,vtype=vtype)\n",
    "model.addConstr(vars.prod(w_dict),grb.GRB.EQUAL,rhs)\n",
    "\n",
    "fname = 'test.lp'\n",
    "model.write(fname)\n",
    "\n",
    "with open(fname) as f:\n",
    "    content = ''\n",
    "    for line in f.readlines():\n",
    "        content = content + line\n",
    "print(content)\n",
    "\n"
   ]
  },
  {
   "cell_type": "code",
   "execution_count": 201,
   "metadata": {
    "ExecuteTime": {
     "end_time": "2018-05-25T16:04:30.795112Z",
     "start_time": "2018-05-25T16:04:30.704086Z"
    },
    "hidden": true
   },
   "outputs": [
    {
     "name": "stdout",
     "output_type": "stream",
     "text": [
      "Optimize a model with 1 rows, 4 columns and 4 nonzeros\n",
      "Variable types: 0 continuous, 4 integer (4 binary)\n",
      "Coefficient statistics:\n",
      "  Matrix range     [1e+00, 3e+00]\n",
      "  Objective range  [1e-01, 5e-01]\n",
      "  Bounds range     [1e+00, 1e+00]\n",
      "  RHS range        [4e+00, 4e+00]\n",
      "Presolve removed 1 rows and 4 columns\n",
      "Presolve time: 0.00s\n",
      "Presolve: All rows and columns removed\n",
      "\n",
      "Explored 0 nodes (0 simplex iterations) in 0.01 seconds\n",
      "Thread count was 1 (of 8 available processors)\n",
      "\n",
      "Solution count 1: 0.4 \n",
      "\n",
      "Optimal solution found (tolerance 1.00e-04)\n",
      "Best objective 4.000000000000e-01, best bound 4.000000000000e-01, gap 0.0000%\n"
     ]
    }
   ],
   "source": [
    "model.optimize()"
   ]
  },
  {
   "cell_type": "markdown",
   "metadata": {},
   "source": [
    "# Solution"
   ]
  },
  {
   "cell_type": "code",
   "execution_count": 202,
   "metadata": {
    "ExecuteTime": {
     "end_time": "2018-05-25T16:04:30.860031Z",
     "start_time": "2018-05-25T16:04:30.797991Z"
    }
   },
   "outputs": [
    {
     "name": "stdout",
     "output_type": "stream",
     "text": [
      "[0.1 0.3 0.1 0.5] [2 3 1 2]\n",
      "objective: 0.40000000000000002220\n",
      "constraint: 4.0 = 4\n",
      "solution: [0. 1. 1. 0.]\n"
     ]
    }
   ],
   "source": [
    "x = np.array([v.X for v in vars.values()])\n",
    "\n",
    "print(c,w)\n",
    "print('objective:','{:.20f}'.format(sum(x*c)))\n",
    "print('constraint:',sum(x*w),'=',rhs)\n",
    "print('solution:',x)"
   ]
  }
 ],
 "metadata": {
  "kernelspec": {
   "display_name": "Python 3",
   "language": "python",
   "name": "python3"
  },
  "language_info": {
   "codemirror_mode": {
    "name": "ipython",
    "version": 3
   },
   "file_extension": ".py",
   "mimetype": "text/x-python",
   "name": "python",
   "nbconvert_exporter": "python",
   "pygments_lexer": "ipython3",
   "version": "3.6.4"
  }
 },
 "nbformat": 4,
 "nbformat_minor": 2
}
