{
 "cells": [
  {
   "cell_type": "markdown",
   "metadata": {},
   "source": [
    "# Modules"
   ]
  },
  {
   "cell_type": "code",
   "execution_count": 1,
   "metadata": {
    "ExecuteTime": {
     "end_time": "2018-05-28T19:46:22.250705Z",
     "start_time": "2018-05-28T19:46:21.984561Z"
    }
   },
   "outputs": [
    {
     "name": "stdout",
     "output_type": "stream",
     "text": [
      "Populating the interactive namespace from numpy and matplotlib\n"
     ]
    }
   ],
   "source": [
    "%pylab --no-import-all inline\n",
    "#import EKPSolvers\n",
    "import gurobipy as grb\n",
    "import EKPSolvers as ekp"
   ]
  },
  {
   "cell_type": "markdown",
   "metadata": {},
   "source": [
    "# Initialization"
   ]
  },
  {
   "cell_type": "code",
   "execution_count": 2,
   "metadata": {
    "ExecuteTime": {
     "end_time": "2018-05-28T19:44:42.933336Z",
     "start_time": "2018-05-28T19:44:42.917807Z"
    }
   },
   "outputs": [
    {
     "name": "stdout",
     "output_type": "stream",
     "text": [
      "[0.9063014555369366, 1.1017854118138553, 0.953227439835186, 0.8494630980106754, 1.0706706675178057, 0.470918422958737]\n",
      "[11, 7, 11, 6, 12, 8]\n",
      "[1, 0, 1, 1, 0, 0]\n",
      "28\n"
     ]
    }
   ],
   "source": [
    "n = 6\n",
    "np.random.seed(15)\n",
    "c = 1 + 0.3*np.random.randn(n)\n",
    "w = np.random.randint(5,12,size=n)+1\n",
    "x = np.array([1, 0, 1, 1, 0, 0])#np.random.randint(2,size=n)\n",
    "rhs = sum(w*x)\n",
    "\n",
    "print(c.tolist(),w.tolist(),x.tolist(),rhs,sep='\\n')\n",
    "\n",
    "vtype = grb.GRB.BINARY"
   ]
  },
  {
   "cell_type": "markdown",
   "metadata": {
    "heading_collapsed": true
   },
   "source": [
    "## Convert"
   ]
  },
  {
   "cell_type": "code",
   "execution_count": 3,
   "metadata": {
    "ExecuteTime": {
     "end_time": "2018-05-28T19:44:42.951646Z",
     "start_time": "2018-05-28T19:44:42.935012Z"
    },
    "code_folding": [],
    "hidden": true
   },
   "outputs": [],
   "source": [
    "def sort_kp(c,w):\n",
    "    t = [ (c[i],w[i],c[i]/w[i]) for i in range(len(c)) ]\n",
    "    #t.sort(key=lambda x : x[2])\n",
    "    c = [p[0] for p in t]\n",
    "    w = [p[1] for p in t]\n",
    "    return (c,w)\n",
    "\n",
    "cw = sort_kp(c,w)\n",
    "\n",
    "c = np.array(cw[0])\n",
    "w = np.array(cw[1])\n",
    "\n",
    "c_dict = { i : c[i] for i in range(0,len(c)) }\n",
    "w_dict = { i : w[i] for i in range(0,len(w)) }"
   ]
  },
  {
   "cell_type": "markdown",
   "metadata": {
    "heading_collapsed": true
   },
   "source": [
    "# Optimization"
   ]
  },
  {
   "cell_type": "code",
   "execution_count": 4,
   "metadata": {
    "ExecuteTime": {
     "end_time": "2018-05-28T19:44:42.991154Z",
     "start_time": "2018-05-28T19:44:42.953067Z"
    },
    "code_folding": [],
    "hidden": true
   },
   "outputs": [
    {
     "name": "stdout",
     "output_type": "stream",
     "text": [
      "\\ Model knapsack\n",
      "\\ LP format - for model browsing. Use MPS format to capture full model detail.\n",
      "Minimize\n",
      "  0.9063014555369366 C0 + 1.101785411813855 C1 + 0.953227439835186 C2\n",
      "   + 0.8494630980106754 C3 + 1.070670667517806 C4 + 0.470918422958737 C5\n",
      "Subject To\n",
      " R0: 11 C0 + 7 C1 + 11 C2 + 6 C3 + 12 C4 + 8 C5 = 28\n",
      "Bounds\n",
      "Binaries\n",
      " C0 C1 C2 C3 C4 C5\n",
      "End\n",
      "\n"
     ]
    }
   ],
   "source": [
    "model = grb.Model(\"knapsack\")\n",
    "vars = model.addVars(range(0,len(c_dict)),lb=0.0,ub=1.0, \\\n",
    "                     obj=c_dict,vtype=vtype)\n",
    "model.addConstr(vars.prod(w_dict),grb.GRB.EQUAL,rhs)\n",
    "\n",
    "fname = 'test.lp'\n",
    "model.write(fname)\n",
    "\n",
    "with open(fname) as f:\n",
    "    content = ''\n",
    "    for line in f.readlines():\n",
    "        content = content + line\n",
    "print(content)\n",
    "\n"
   ]
  },
  {
   "cell_type": "code",
   "execution_count": 5,
   "metadata": {
    "ExecuteTime": {
     "end_time": "2018-05-28T19:44:43.056905Z",
     "start_time": "2018-05-28T19:44:42.994304Z"
    },
    "hidden": true
   },
   "outputs": [
    {
     "name": "stdout",
     "output_type": "stream",
     "text": [
      "Optimize a model with 1 rows, 6 columns and 6 nonzeros\n",
      "Variable types: 0 continuous, 6 integer (6 binary)\n",
      "Coefficient statistics:\n",
      "  Matrix range     [6e+00, 1e+01]\n",
      "  Objective range  [5e-01, 1e+00]\n",
      "  Bounds range     [1e+00, 1e+00]\n",
      "  RHS range        [3e+01, 3e+01]\n",
      "Presolve time: 0.00s\n",
      "Presolved: 1 rows, 6 columns, 6 nonzeros\n",
      "Variable types: 0 continuous, 6 integer (6 binary)\n",
      "Found heuristic solution: objective 2.7089920\n",
      "\n",
      "Root relaxation: objective 2.157133e+00, 1 iterations, 0.00 seconds\n",
      "\n",
      "    Nodes    |    Current Node    |     Objective Bounds      |     Work\n",
      " Expl Unexpl |  Obj  Depth IntInf | Incumbent    BestBd   Gap | It/Node Time\n",
      "\n",
      "     0     0    2.15713    0    1    2.70899    2.15713  20.4%     -    0s\n",
      "     0     0 infeasible    0         2.70899    2.70899  0.00%     -    0s\n",
      "\n",
      "Cutting planes:\n",
      "  Gomory: 1\n",
      "  Cover: 2\n",
      "\n",
      "Explored 1 nodes (1 simplex iterations) in 0.05 seconds\n",
      "Thread count was 4 (of 4 available processors)\n",
      "\n",
      "Solution count 1: 2.70899 \n",
      "\n",
      "Optimal solution found (tolerance 1.00e-04)\n",
      "Best objective 2.708991993383e+00, best bound 2.708991993383e+00, gap 0.0000%\n"
     ]
    }
   ],
   "source": [
    "model.optimize()"
   ]
  },
  {
   "cell_type": "markdown",
   "metadata": {},
   "source": [
    "# Solution"
   ]
  },
  {
   "cell_type": "code",
   "execution_count": 6,
   "metadata": {
    "ExecuteTime": {
     "end_time": "2018-05-28T19:44:43.084140Z",
     "start_time": "2018-05-28T19:44:43.060160Z"
    },
    "code_folding": [
     6,
     9
    ]
   },
   "outputs": [
    {
     "name": "stdout",
     "output_type": "stream",
     "text": [
      "objective: 2.70899\n",
      "constraint: 28.0 = 28\n",
      "solution: [ 1. -0.  1.  1. -0. -0.]\n",
      "0 -> 0.90630   11\n",
      "1 -> 1.10179   7\n",
      "2 -> 0.95323   11\n",
      "3 -> 0.84946   6\n",
      "4 -> 1.07067   12\n",
      "5 -> 0.47092   8\n"
     ]
    }
   ],
   "source": [
    "x = np.array([v.X for v in vars.values()])\n",
    "\n",
    "print('objective:','{:.5f}'.format(sum(x*c)))\n",
    "print('constraint:',sum(x*w),'=',rhs)\n",
    "print('solution:',x)\n",
    "\n",
    "try:\n",
    "    c = c.tolist()\n",
    "    w = w.tolist()\n",
    "except:\n",
    "    pass\n",
    "\n",
    "for i in range(len(c)):\n",
    "    print('{:.0f} -> {:4.5f}   {:.0f}'.format(i,c[i],w[i]))"
   ]
  }
 ],
 "metadata": {
  "kernelspec": {
   "display_name": "Python 3",
   "language": "python",
   "name": "python3"
  },
  "language_info": {
   "codemirror_mode": {
    "name": "ipython",
    "version": 3
   },
   "file_extension": ".py",
   "mimetype": "text/x-python",
   "name": "python",
   "nbconvert_exporter": "python",
   "pygments_lexer": "ipython3",
   "version": "3.6.4"
  }
 },
 "nbformat": 4,
 "nbformat_minor": 2
}
