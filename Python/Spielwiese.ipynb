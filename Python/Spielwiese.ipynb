{
 "cells": [
  {
   "cell_type": "markdown",
   "metadata": {
    "heading_collapsed": true
   },
   "source": [
    "# Modules"
   ]
  },
  {
   "cell_type": "code",
   "execution_count": 1,
   "metadata": {
    "ExecuteTime": {
     "end_time": "2018-05-24T14:29:14.316532Z",
     "start_time": "2018-05-24T14:29:14.136019Z"
    },
    "hidden": true
   },
   "outputs": [
    {
     "name": "stdout",
     "output_type": "stream",
     "text": [
      "Populating the interactive namespace from numpy and matplotlib\n"
     ]
    }
   ],
   "source": [
    "%pylab --no-import-all inline\n",
    "import EKPSolvers\n",
    "import gurobipy as grb"
   ]
  },
  {
   "cell_type": "markdown",
   "metadata": {},
   "source": [
    "# Code"
   ]
  },
  {
   "cell_type": "code",
   "execution_count": 9,
   "metadata": {
    "ExecuteTime": {
     "end_time": "2018-05-24T14:34:22.151822Z",
     "start_time": "2018-05-24T14:34:22.140078Z"
    }
   },
   "outputs": [
    {
     "name": "stdout",
     "output_type": "stream",
     "text": [
      "(0.1, 2, 0.05)\n",
      "(0.2, 3, 0.06666666666666667)\n",
      "(0.5, 4, 0.125)\n",
      "(0.3, 1, 0.3)\n"
     ]
    }
   ],
   "source": [
    "c = [0.1,0.3,0.2,0.5]\n",
    "w = [2,1,3,4]\n",
    "p = list()\n",
    "\n",
    "for i in range(len(c)):\n",
    "    p.append((c[i],w[i],c[i]/w[i]))\n",
    "\n",
    "p.sort(key=lambda x : x[2])\n",
    "for i in p:\n",
    "    print(i)\n",
    "    "
   ]
  },
  {
   "cell_type": "code",
   "execution_count": null,
   "metadata": {},
   "outputs": [],
   "source": []
  }
 ],
 "metadata": {
  "kernelspec": {
   "display_name": "Python 3",
   "language": "python",
   "name": "python3"
  },
  "language_info": {
   "codemirror_mode": {
    "name": "ipython",
    "version": 3
   },
   "file_extension": ".py",
   "mimetype": "text/x-python",
   "name": "python",
   "nbconvert_exporter": "python",
   "pygments_lexer": "ipython3",
   "version": "3.6.4"
  }
 },
 "nbformat": 4,
 "nbformat_minor": 2
}
